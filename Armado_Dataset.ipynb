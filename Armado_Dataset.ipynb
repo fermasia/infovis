{
  "nbformat": 4,
  "nbformat_minor": 0,
  "metadata": {
    "colab": {
      "name": "Armado_Dataset.ipynb",
      "provenance": [],
      "collapsed_sections": [],
      "include_colab_link": true
    },
    "kernelspec": {
      "display_name": "Python 3",
      "name": "python3"
    },
    "language_info": {
      "name": "python"
    }
  },
  "cells": [
    {
      "cell_type": "markdown",
      "metadata": {
        "id": "view-in-github",
        "colab_type": "text"
      },
      "source": [
        "<a href=\"https://colab.research.google.com/github/fermasia/infovis/blob/gh-pages/Armado_Dataset.ipynb\" target=\"_parent\"><img src=\"https://colab.research.google.com/assets/colab-badge.svg\" alt=\"Open In Colab\"/></a>"
      ]
    },
    {
      "cell_type": "code",
      "metadata": {
        "id": "-CgsJDCwCXqz"
      },
      "source": [
        "import pandas as pd\n",
        "import time\n",
        "from datetime import datetime, timedelta\n",
        "from google.colab import files"
      ],
      "execution_count": null,
      "outputs": []
    },
    {
      "cell_type": "code",
      "metadata": {
        "colab": {
          "base_uri": "https://localhost:8080/"
        },
        "id": "ZXsuaVunqr6H",
        "outputId": "d43be61c-6555-4855-e1d3-bb0e4b513410"
      },
      "source": [
        "# Importación Dataset CASOS\n",
        "# Variables que nos interesan:  fecha, \n",
        "#                               residencia_provincia_id, \n",
        "#                               id_departamento, \n",
        "#                               cantidad contagios (fecha_diagnostico), \n",
        "#                               cantidad internaciones (fecha_internacion), \n",
        "#                               cantidad cuidado intensivo (fecha_cui_intensivo), \n",
        "#                               cantidad muertes (fecha_fallecimiento)\n",
        "start_time = time.time()\n",
        "casos = None\n",
        "while casos is None:\n",
        "  try:\n",
        "    casos = pd.read_csv('https://sisa.msal.gov.ar/datos/descargas/covid-19/files/Covid19Casos.zip')\n",
        "  except:\n",
        "    pass\n",
        "print(\"--- %s seconds ---\" % (time.time() - start_time))"
      ],
      "execution_count": null,
      "outputs": [
        {
          "output_type": "stream",
          "text": [
            "--- 103.55275630950928 seconds ---\n"
          ],
          "name": "stdout"
        }
      ]
    },
    {
      "cell_type": "code",
      "metadata": {
        "id": "2C_0DyW1QjPb"
      },
      "source": [
        "# Quedarnos con las columnas que necesitamos y borrar filas con NaNs\n",
        "casos = casos[((casos.clasificacion_resumen == 'Confirmado') | (casos.clasificacion_resumen == 'Sospechoso'))]\n",
        "casos = casos[['id_evento_caso','residencia_provincia_id','fecha_diagnostico','fecha_internacion','fecha_cui_intensivo','fecha_fallecimiento']]\n",
        "casos.fecha_diagnostico.dropna(inplace=True)"
      ],
      "execution_count": null,
      "outputs": []
    },
    {
      "cell_type": "code",
      "metadata": {
        "id": "4ktDBWAH3nn8"
      },
      "source": [
        "# Funcion para devolver base de fechas\n",
        "def base(df,fecha_desde):\n",
        "  ids = df[['residencia_provincia_id']].drop_duplicates()\n",
        "  df = pd.DataFrame(columns=[\"fecha\"])\n",
        "  date = fecha_desde\n",
        "  ayer = (datetime.now() - timedelta(1)).strftime('%Y-%m-%d')\n",
        "  fechas = pd.DataFrame(pd.date_range(date,ayer)).rename(columns={0:'fecha'})\n",
        "  #today = pd.to_datetime('today').normalize() # fecha hasta\n",
        "  final = pd.DataFrame(columns=['residencia_provincia_id','fecha'])\n",
        "  for fecha in fechas['fecha']:\n",
        "    base = ids\n",
        "    base['fecha'] = fecha\n",
        "    final = final.append(base, ignore_index=True)\n",
        "  return final"
      ],
      "execution_count": null,
      "outputs": []
    },
    {
      "cell_type": "code",
      "metadata": {
        "id": "61cLx50llr0M"
      },
      "source": [
        "# CASOS\n",
        "# Armar Cada Dataset a Joinear \n",
        "diag = casos.dropna(subset=['fecha_diagnostico'], how='all').groupby(['residencia_provincia_id','fecha_diagnostico'])['id_evento_caso'].count().reset_index()\n",
        "diag.rename(columns={'id_evento_caso':'cuenta','fecha_diagnostico':'fecha'},inplace=True)\n",
        "diag['fecha'] = pd.to_datetime(diag['fecha']) # convertir fecha a campot datetime\n",
        "inter = casos.dropna(subset=['fecha_internacion'], how='all').groupby(['residencia_provincia_id','fecha_internacion'])['id_evento_caso'].count().reset_index()\n",
        "inter.rename(columns={'id_evento_caso':'cuenta','fecha_internacion':'fecha'},inplace=True)\n",
        "inter['fecha'] = pd.to_datetime(inter['fecha']) # convertir fecha a campot datetime\n",
        "uti = casos.dropna(subset=['fecha_cui_intensivo'], how='all').groupby(['residencia_provincia_id','fecha_cui_intensivo'])['id_evento_caso'].count().reset_index()\n",
        "uti.rename(columns={'id_evento_caso':'cuenta','fecha_cui_intensivo':'fecha'},inplace=True)\n",
        "uti['fecha'] = pd.to_datetime(uti['fecha']) # convertir fecha a campot datetime\n",
        "muertes = casos.dropna(subset=['fecha_fallecimiento'], how='all').groupby(['residencia_provincia_id','fecha_fallecimiento'])['id_evento_caso'].count().reset_index()\n",
        "muertes.rename(columns={'id_evento_caso':'cuenta','fecha_fallecimiento':'fecha'},inplace=True)\n",
        "muertes['fecha'] = pd.to_datetime(muertes['fecha']) # convertir fecha a campot datetime"
      ],
      "execution_count": null,
      "outputs": []
    },
    {
      "cell_type": "code",
      "metadata": {
        "id": "kSSy66x0vpeq"
      },
      "source": [
        "# CASOS\n",
        "# Joinear el Dataset final\n",
        "df_casos = pd.merge(base(casos,'2020-01-01'),diag,how='left',on=['residencia_provincia_id','fecha']) # partiendo del dataset Base\n",
        "df_casos = pd.merge(df_casos,inter,how='left',on=['residencia_provincia_id','fecha'],suffixes=('_diag','_inter'))\n",
        "df_casos = pd.merge(df_casos,uti,how='left',on=['residencia_provincia_id','fecha']).rename(columns={'cuenta':'cuenta_uti'})\n",
        "df_casos = pd.merge(df_casos,muertes,how='left',on=['residencia_provincia_id','fecha']).rename(columns={'cuenta':'cuenta_muertes'}).fillna(0)"
      ],
      "execution_count": null,
      "outputs": []
    },
    {
      "cell_type": "code",
      "metadata": {
        "colab": {
          "background_save": true
        },
        "id": "P5b-ma1HClt9",
        "outputId": "1d9ff513-c855-4602-f3ec-d604583d7f61"
      },
      "source": [
        "# Importación Dataset Vacunas\n",
        "# \n",
        "start_time = time.time()\n",
        "vacunas = None\n",
        "while vacunas is None:\n",
        "  try:\n",
        "    vacunas = pd.read_csv('https://sisa.msal.gov.ar/datos/descargas/covid-19/files/datos_nomivac_covid19.zip')\n",
        "  except:\n",
        "    pass\n",
        "print(\"--- %s seconds ---\" % (time.time() - start_time))"
      ],
      "execution_count": null,
      "outputs": [
        {
          "output_type": "stream",
          "text": [
            "--- 325.86232900619507 seconds ---\n"
          ],
          "name": "stdout"
        }
      ]
    },
    {
      "cell_type": "code",
      "metadata": {
        "colab": {
          "background_save": true
        },
        "id": "YwVkcS1TDgrL"
      },
      "source": [
        "# Quedarnos con las columnas que vamos a usar y limpiar registros incompletos\n",
        "vacunas = vacunas[['jurisdiccion_residencia_id','fecha_aplicacion','condicion_aplicacion','orden_dosis','sexo','vacuna']]\n",
        "vacunas = vacunas[vacunas.fecha_aplicacion != 'S.I.']\n",
        "vacunas.fecha_aplicacion.dropna(inplace=True)"
      ],
      "execution_count": null,
      "outputs": []
    },
    {
      "cell_type": "code",
      "metadata": {
        "id": "r2tndwMwNbLN"
      },
      "source": [
        "# Armar Cada Dataset a Joinear con datos de Vacunas\n",
        "# Columnas de Condición de Aplicación:\n",
        "# Salud -> condicion_aplicacion = 'Salud'\n",
        "# Otros -> condicion_aplicacion = 'Otros'\n",
        "# Estrategico -> condicion_aplicacion = 'Estrategico'\n",
        "# Mayores_60 -> condicion_aplicacion = '60 o más años'\n",
        "# Menores_60_SF -> '18 a 39 anos SIN Factores de Riesgo' o '40 a 49 anos SIN Factores de Riesgo' o '50 a 59 anos SIN Factores de Riesgo'\n",
        "# Menores_60_CF -> '18 a 49 anos CON Factores de Riesgo'\n",
        "#\n",
        "# columnas tipo vacuna\n",
        "# AstraZeneca -> vacuna = 'AstraZeneca'\n",
        "# COVISHIELD  -> vacuna = 'COVISHIELD'\n",
        "# Sinopharm   -> vacuna = 'Sinopharm'\n",
        "# Sputnik     -> vacuna = 'Sputnik'\n",
        "# Otra        -> vacuna not in ['AstraZeneca','COVISHIELD','Sinopharm','Sputnik'] (para identificar nuevas vacunas no tipificadas por ejemplo Moderna)\n",
        "#\n",
        "# Dosis:\n",
        "# Primera_dosis -> orden_dosis = 1\n",
        "# Segunda_dosis -> orden_dosis = 2\n",
        "# Renombrar Columnas entre datasets\n",
        "vacunas.rename(columns={'fecha_aplicacion':'fecha','jurisdiccion_residencia_id':'residencia_provincia_id'},inplace=True)\n",
        "vacunas = vacunas.loc[vacunas.fecha != 'S.I.']\n",
        "# Armar Cada Dataset a Joinear con datos de Vacunas\n",
        "vac_x_cond = vacunas.pivot_table(index=['fecha','residencia_provincia_id'],columns='condicion_aplicacion',values='sexo',aggfunc='count').reset_index().fillna(0)\n",
        "vac_x_cond['fecha'] = pd.to_datetime(vac_x_cond['fecha']) # convertir fecha a campo datetime\n",
        "vac_x_vac = vacunas.pivot_table(index=['fecha','residencia_provincia_id'],columns='vacuna',values='sexo',aggfunc='count').reset_index().fillna(0)\n",
        "vac_x_vac['fecha'] = pd.to_datetime(vac_x_vac['fecha']) # convertir fecha a campo datetime\n",
        "vac_x_dosis = vacunas.pivot_table(index=['fecha','residencia_provincia_id'],columns='orden_dosis',values='sexo',aggfunc='count').reset_index().fillna(0)\n",
        "vac_x_dosis['fecha'] = pd.to_datetime(vac_x_dosis['fecha']) # convertir fecha a campo datetime"
      ],
      "execution_count": null,
      "outputs": []
    },
    {
      "cell_type": "code",
      "metadata": {
        "id": "Hus9WlwYetUP"
      },
      "source": [
        "# Unir datasets de Vacunas\n",
        "parcial = pd.merge(base(vacunas,'2020-01-01'),vac_x_cond,how='left',on=['residencia_provincia_id','fecha'])\n",
        "#del vac_x_cond\n",
        "parcial_2 = pd.merge(parcial,vac_x_vac,how='left',on=['residencia_provincia_id','fecha'])\n",
        "#del parcial,vac_x_vac\n",
        "df_vacunas = pd.merge(parcial_2,vac_x_dosis,how='left',on=['residencia_provincia_id','fecha'])"
      ],
      "execution_count": null,
      "outputs": []
    },
    {
      "cell_type": "code",
      "metadata": {
        "id": "o7NNUyblfP9s"
      },
      "source": [
        "#Unificar final de Casos y Vacunas\n",
        "parcial = pd.merge(base(casos,'2020-01-01'),df_casos,how='left',on=['residencia_provincia_id','fecha'])\n",
        "final = pd.merge(parcial,df_vacunas,how='left',on=['residencia_provincia_id','fecha'])"
      ],
      "execution_count": null,
      "outputs": []
    },
    {
      "cell_type": "code",
      "metadata": {
        "id": "XetnnRFgaoiF"
      },
      "source": [
        "# Importar población por provincia\n",
        "provincias = pd.read_csv('https://raw.githubusercontent.com/alvarov0907/C2020/gh-pages/Poblacion_por_provincia.csv')\n",
        "# Joinear al dataset\n",
        "final_prov = pd.merge(final,provincias,how='left',on=['residencia_provincia_id'])"
      ],
      "execution_count": null,
      "outputs": []
    },
    {
      "cell_type": "code",
      "metadata": {
        "id": "SxCTpYqTfAN5"
      },
      "source": [
        "# Descargar CSV\n",
        "final_prov.to_csv('final_prov.csv',index=False)\n",
        "files.download(\"final_prov.csv\")"
      ],
      "execution_count": null,
      "outputs": []
    },
    {
      "cell_type": "code",
      "metadata": {
        "id": "hqnid17Gy177"
      },
      "source": [
        "# Data Provincias y Departamentos de Argentina para joinear\n",
        "provincias = pd.read_csv('https://infra.datos.gob.ar/catalog/modernizacion/dataset/7/distribution/7.7/download/provincias.csv')\n",
        "departamentos = pd.read_csv('https://infra.datos.gob.ar/catalog/modernizacion/dataset/7/distribution/7.8/download/departamentos.csv')"
      ],
      "execution_count": null,
      "outputs": []
    }
  ]
}