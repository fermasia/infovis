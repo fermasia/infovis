{
  "nbformat": 4,
  "nbformat_minor": 0,
  "metadata": {
    "colab": {
      "name": "Android Apps Usage",
      "provenance": [],
      "authorship_tag": "ABX9TyMp7kM2ouhtiGrrAJfU3bDN",
      "include_colab_link": true
    },
    "kernelspec": {
      "name": "python3",
      "display_name": "Python 3"
    },
    "language_info": {
      "name": "python"
    }
  },
  "cells": [
    {
      "cell_type": "markdown",
      "metadata": {
        "id": "view-in-github",
        "colab_type": "text"
      },
      "source": [
        "<a href=\"https://colab.research.google.com/github/fermasia/infovis/blob/gh-pages/Android_Apps_Usage.ipynb\" target=\"_parent\"><img src=\"https://colab.research.google.com/assets/colab-badge.svg\" alt=\"Open In Colab\"/></a>"
      ]
    },
    {
      "cell_type": "code",
      "metadata": {
        "id": "IXZzbt-uCSqc"
      },
      "source": [
        "import pandas as pd\n",
        "import altair as alt"
      ],
      "execution_count": null,
      "outputs": []
    },
    {
      "cell_type": "code",
      "metadata": {
        "id": "2gmDERriCUJC"
      },
      "source": [
        "def prep_takeout(url,apps):\n",
        "  '''\n",
        "  Extraer del dump \"Mi Actividad\" de Google Takeout el uso de aplicaciones definidas por el nombre\n",
        "  '''\n",
        "  takeout = pd.read_json(url)\n",
        "  takeout[\"time\"] = pd.to_datetime(takeout[\"time\"]).dt.tz_convert('America/Buenos_Aires') # Ajustar la TimeZone a Buenos Aires Argentina\n",
        "  # Definir universo de Apps y Filtrar\n",
        "  takeout = takeout[takeout[\"header\"].isin(apps)]\n",
        "  # Extraer fechas, horas y nombre del día\n",
        "  takeout[\"date\"] = pd.to_datetime(pd.to_datetime(takeout[\"time\"],errors = 'coerce').dt.date)\n",
        "  takeout[\"hour\"] = pd.to_datetime(pd.to_datetime(takeout[\"time\"],errors = 'coerce')).dt.hour\n",
        "  takeout[\"day_name\"] = pd.to_datetime(pd.to_datetime(takeout[\"time\"],errors = 'coerce')).dt.day_name()\n",
        "  takeout[\"day_name\"] = takeout[\"day_name\"].replace({\"Monday\": \"1.Monday\", \"Tuesday\": \"2.Tuesday\",\"Wednesday\": \"3.Wednesday\",\"Thursday\": \"4.Thursday\",\"Friday\": \"5.Friday\",\"Saturday\": \"6.Saturday\",\"Sunday\": \"7.Sunday\"})\n",
        "  takeout.rename(columns = {'header':'app'}, inplace = True) # Renombrar header\n",
        "  takeout = takeout[[\"app\",\"date\",\"day_name\",\"hour\"]] # depurar columnas\n",
        "  takeout = takeout[takeout.date > '2020-01-01']\n",
        "  return takeout\n"
      ],
      "execution_count": null,
      "outputs": []
    },
    {
      "cell_type": "code",
      "metadata": {
        "id": "2dZ3fg-I1Lik"
      },
      "source": [
        "def crear_dataset(apps):\n",
        "  '''\n",
        "  Función para recorrer la lista de aplicaciones y crear un dataframe con fechas \n",
        "  y nombres de días a rellenar para cada aplicación entre 1-1-2021 y hoy\n",
        "  '''\n",
        "  df = pd.DataFrame(columns=[\"date\",\"day_name\",\"app\"])\n",
        "  for app in aplicaciones:\n",
        "    today = pd.to_datetime('today').normalize()\n",
        "    days = pd.DataFrame(pd.date_range('2021-01-01',today))\n",
        "    days.columns = [\"date\"]\n",
        "    days[\"day_name\"] = pd.to_datetime(pd.to_datetime(days[\"date\"],errors = 'coerce')).dt.day_name()\n",
        "    days[\"day_name\"] = days[\"day_name\"].replace({\"Monday\": \"1.Monday\", \"Tuesday\": \"2.Tuesday\",\"Wednesday\": \"3.Wednesday\",\"Thursday\": \"4.Thursday\",\"Friday\": \"5.Friday\",\"Saturday\": \"6.Saturday\",\"Sunday\": \"7.Sunday\"})\n",
        "    days[\"app\"] = app\n",
        "    df = df.append(days, ignore_index = True)\n",
        "  return df"
      ],
      "execution_count": null,
      "outputs": []
    },
    {
      "cell_type": "code",
      "metadata": {
        "id": "vPk-noW9DMBq"
      },
      "source": [
        "# Preparar Origen de Takeout\n",
        "url = \"https://raw.githubusercontent.com/fermasia/infovis/gh-pages/MiActividad.json\"\n",
        "aplicaciones = ['Twitter', 'Instagram', 'WhatsApp Messenger', 'Mercado Libre: compra fácil y rápido','Amazon Prime Video', 'Gmail','YouTube', 'Facebook','Spotify: Nueva música y podcasts para vos', 'Google Podcasts','Flow', 'Rappi: Delivery de Comida, Mercado y Farmacia','Cámara de Google','LinkedIn – App para Buscar Trabajo', 'Calendario de Google', 'Netflix','Google Maps','PedidosYa - Delivery Online']\n",
        "takeout = prep_takeout(url,aplicaciones)\n",
        "\n",
        "# Crear dataset base\n",
        "df = crear_dataset(aplicaciones)\n",
        "\n",
        "# Agrupar por fecha\n",
        "takeout = takeout.groupby([\"app\",\"day_name\",\"date\"]).count().rename(columns={\"hour\":\"cuenta\"})\n",
        "takeout = takeout.reset_index()\n",
        "\n",
        "# Joinear con la tabla base\n",
        "df = pd.merge(df,takeout,on=[\"date\",\"app\",\"day_name\"],how=\"left\")\n",
        "df[\"cuenta\"] = df[\"cuenta\"].fillna(0)\n",
        "\n",
        "#Calcular media\n",
        "df_media_diaria = df.groupby([\"app\",\"day_name\"]).mean().round(2).rename(columns={\"cuenta\":\"promedio\"})\n",
        "df_media_diaria = df_media_diaria.reset_index()"
      ],
      "execution_count": null,
      "outputs": []
    },
    {
      "cell_type": "code",
      "metadata": {
        "colab": {
          "base_uri": "https://localhost:8080/",
          "height": 864
        },
        "id": "cIwC5OM5t4O_",
        "outputId": "6286846a-d28a-4f3d-a101-c63b786af609"
      },
      "source": [
        "# Graficar \n",
        "alt.Chart(df_media_diaria).mark_bar().encode(\n",
        "    x='day_name',\n",
        "    y=alt.Y(\n",
        "        'promedio',\n",
        "        title='Usos Promedio',\n",
        "        axis=alt.Axis(format='~s')\n",
        "    ),\n",
        "    facet=alt.Facet('app', columns=3),\n",
        ").properties(\n",
        "    title='Usos de Aplicaciones del Smartphone de Fernando',\n",
        "    width=90,\n",
        "    height=80\n",
        ")"
      ],
      "execution_count": null,
      "outputs": [
        {
          "output_type": "execute_result",
          "data": {
            "text/plain": [
              "alt.Chart(...)"
            ],
            "text/html": [
              "\n",
              "<div id=\"altair-viz-622b6e19f1b84c2faf3ee597fa33c8c1\"></div>\n",
              "<script type=\"text/javascript\">\n",
              "  (function(spec, embedOpt){\n",
              "    let outputDiv = document.currentScript.previousElementSibling;\n",
              "    if (outputDiv.id !== \"altair-viz-622b6e19f1b84c2faf3ee597fa33c8c1\") {\n",
              "      outputDiv = document.getElementById(\"altair-viz-622b6e19f1b84c2faf3ee597fa33c8c1\");\n",
              "    }\n",
              "    const paths = {\n",
              "      \"vega\": \"https://cdn.jsdelivr.net/npm//vega@5?noext\",\n",
              "      \"vega-lib\": \"https://cdn.jsdelivr.net/npm//vega-lib?noext\",\n",
              "      \"vega-lite\": \"https://cdn.jsdelivr.net/npm//vega-lite@4.8.1?noext\",\n",
              "      \"vega-embed\": \"https://cdn.jsdelivr.net/npm//vega-embed@6?noext\",\n",
              "    };\n",
              "\n",
              "    function loadScript(lib) {\n",
              "      return new Promise(function(resolve, reject) {\n",
              "        var s = document.createElement('script');\n",
              "        s.src = paths[lib];\n",
              "        s.async = true;\n",
              "        s.onload = () => resolve(paths[lib]);\n",
              "        s.onerror = () => reject(`Error loading script: ${paths[lib]}`);\n",
              "        document.getElementsByTagName(\"head\")[0].appendChild(s);\n",
              "      });\n",
              "    }\n",
              "\n",
              "    function showError(err) {\n",
              "      outputDiv.innerHTML = `<div class=\"error\" style=\"color:red;\">${err}</div>`;\n",
              "      throw err;\n",
              "    }\n",
              "\n",
              "    function displayChart(vegaEmbed) {\n",
              "      vegaEmbed(outputDiv, spec, embedOpt)\n",
              "        .catch(err => showError(`Javascript Error: ${err.message}<br>This usually means there's a typo in your chart specification. See the javascript console for the full traceback.`));\n",
              "    }\n",
              "\n",
              "    if(typeof define === \"function\" && define.amd) {\n",
              "      requirejs.config({paths});\n",
              "      require([\"vega-embed\"], displayChart, err => showError(`Error loading script: ${err.message}`));\n",
              "    } else if (typeof vegaEmbed === \"function\") {\n",
              "      displayChart(vegaEmbed);\n",
              "    } else {\n",
              "      loadScript(\"vega\")\n",
              "        .then(() => loadScript(\"vega-lite\"))\n",
              "        .then(() => loadScript(\"vega-embed\"))\n",
              "        .catch(showError)\n",
              "        .then(() => displayChart(vegaEmbed));\n",
              "    }\n",
              "  })({\"config\": {\"view\": {\"continuousWidth\": 400, \"continuousHeight\": 300}}, \"data\": {\"name\": \"data-2f060f4570405a8b394e0080515b8c21\"}, \"mark\": \"bar\", \"encoding\": {\"facet\": {\"type\": \"nominal\", \"columns\": 3, \"field\": \"app\"}, \"x\": {\"type\": \"nominal\", \"field\": \"day_name\"}, \"y\": {\"type\": \"quantitative\", \"axis\": {\"format\": \"~s\"}, \"field\": \"promedio\", \"title\": \"Usos Promedio\"}}, \"height\": 80, \"title\": \"Usos de Aplicaciones del Smartphone de Fernando\", \"width\": 90, \"$schema\": \"https://vega.github.io/schema/vega-lite/v4.8.1.json\", \"datasets\": {\"data-2f060f4570405a8b394e0080515b8c21\": [{\"app\": \"Amazon Prime Video\", \"day_name\": \"1.Monday\", \"promedio\": 0.41}, {\"app\": \"Amazon Prime Video\", \"day_name\": \"2.Tuesday\", \"promedio\": 0.33}, {\"app\": \"Amazon Prime Video\", \"day_name\": \"3.Wednesday\", \"promedio\": 0.27}, {\"app\": \"Amazon Prime Video\", \"day_name\": \"4.Thursday\", \"promedio\": 0.42}, {\"app\": \"Amazon Prime Video\", \"day_name\": \"5.Friday\", \"promedio\": 0.33}, {\"app\": \"Amazon Prime Video\", \"day_name\": \"6.Saturday\", \"promedio\": 0.3}, {\"app\": \"Amazon Prime Video\", \"day_name\": \"7.Sunday\", \"promedio\": 0.48}, {\"app\": \"Calendario de Google\", \"day_name\": \"1.Monday\", \"promedio\": 0.67}, {\"app\": \"Calendario de Google\", \"day_name\": \"2.Tuesday\", \"promedio\": 0.37}, {\"app\": \"Calendario de Google\", \"day_name\": \"3.Wednesday\", \"promedio\": 1.19}, {\"app\": \"Calendario de Google\", \"day_name\": \"4.Thursday\", \"promedio\": 0.65}, {\"app\": \"Calendario de Google\", \"day_name\": \"5.Friday\", \"promedio\": 1.33}, {\"app\": \"Calendario de Google\", \"day_name\": \"6.Saturday\", \"promedio\": 0.15}, {\"app\": \"Calendario de Google\", \"day_name\": \"7.Sunday\", \"promedio\": 0.26}, {\"app\": \"C\\u00e1mara de Google\", \"day_name\": \"1.Monday\", \"promedio\": 0.67}, {\"app\": \"C\\u00e1mara de Google\", \"day_name\": \"2.Tuesday\", \"promedio\": 0.48}, {\"app\": \"C\\u00e1mara de Google\", \"day_name\": \"3.Wednesday\", \"promedio\": 0.73}, {\"app\": \"C\\u00e1mara de Google\", \"day_name\": \"4.Thursday\", \"promedio\": 1.0}, {\"app\": \"C\\u00e1mara de Google\", \"day_name\": \"5.Friday\", \"promedio\": 0.96}, {\"app\": \"C\\u00e1mara de Google\", \"day_name\": \"6.Saturday\", \"promedio\": 1.11}, {\"app\": \"C\\u00e1mara de Google\", \"day_name\": \"7.Sunday\", \"promedio\": 0.74}, {\"app\": \"Facebook\", \"day_name\": \"1.Monday\", \"promedio\": 0.85}, {\"app\": \"Facebook\", \"day_name\": \"2.Tuesday\", \"promedio\": 0.74}, {\"app\": \"Facebook\", \"day_name\": \"3.Wednesday\", \"promedio\": 1.15}, {\"app\": \"Facebook\", \"day_name\": \"4.Thursday\", \"promedio\": 0.65}, {\"app\": \"Facebook\", \"day_name\": \"5.Friday\", \"promedio\": 0.85}, {\"app\": \"Facebook\", \"day_name\": \"6.Saturday\", \"promedio\": 1.19}, {\"app\": \"Facebook\", \"day_name\": \"7.Sunday\", \"promedio\": 1.26}, {\"app\": \"Flow\", \"day_name\": \"1.Monday\", \"promedio\": 0.07}, {\"app\": \"Flow\", \"day_name\": \"2.Tuesday\", \"promedio\": 0.11}, {\"app\": \"Flow\", \"day_name\": \"3.Wednesday\", \"promedio\": 0.35}, {\"app\": \"Flow\", \"day_name\": \"4.Thursday\", \"promedio\": 0.04}, {\"app\": \"Flow\", \"day_name\": \"5.Friday\", \"promedio\": 0.0}, {\"app\": \"Flow\", \"day_name\": \"6.Saturday\", \"promedio\": 0.3}, {\"app\": \"Flow\", \"day_name\": \"7.Sunday\", \"promedio\": 0.26}, {\"app\": \"Gmail\", \"day_name\": \"1.Monday\", \"promedio\": 2.48}, {\"app\": \"Gmail\", \"day_name\": \"2.Tuesday\", \"promedio\": 2.22}, {\"app\": \"Gmail\", \"day_name\": \"3.Wednesday\", \"promedio\": 2.65}, {\"app\": \"Gmail\", \"day_name\": \"4.Thursday\", \"promedio\": 2.46}, {\"app\": \"Gmail\", \"day_name\": \"5.Friday\", \"promedio\": 2.15}, {\"app\": \"Gmail\", \"day_name\": \"6.Saturday\", \"promedio\": 1.11}, {\"app\": \"Gmail\", \"day_name\": \"7.Sunday\", \"promedio\": 1.85}, {\"app\": \"Google Maps\", \"day_name\": \"1.Monday\", \"promedio\": 1.33}, {\"app\": \"Google Maps\", \"day_name\": \"2.Tuesday\", \"promedio\": 1.63}, {\"app\": \"Google Maps\", \"day_name\": \"3.Wednesday\", \"promedio\": 2.08}, {\"app\": \"Google Maps\", \"day_name\": \"4.Thursday\", \"promedio\": 1.96}, {\"app\": \"Google Maps\", \"day_name\": \"5.Friday\", \"promedio\": 1.41}, {\"app\": \"Google Maps\", \"day_name\": \"6.Saturday\", \"promedio\": 1.85}, {\"app\": \"Google Maps\", \"day_name\": \"7.Sunday\", \"promedio\": 1.59}, {\"app\": \"Google Podcasts\", \"day_name\": \"1.Monday\", \"promedio\": 1.33}, {\"app\": \"Google Podcasts\", \"day_name\": \"2.Tuesday\", \"promedio\": 1.56}, {\"app\": \"Google Podcasts\", \"day_name\": \"3.Wednesday\", \"promedio\": 0.88}, {\"app\": \"Google Podcasts\", \"day_name\": \"4.Thursday\", \"promedio\": 1.69}, {\"app\": \"Google Podcasts\", \"day_name\": \"5.Friday\", \"promedio\": 1.04}, {\"app\": \"Google Podcasts\", \"day_name\": \"6.Saturday\", \"promedio\": 0.44}, {\"app\": \"Google Podcasts\", \"day_name\": \"7.Sunday\", \"promedio\": 0.7}, {\"app\": \"Instagram\", \"day_name\": \"1.Monday\", \"promedio\": 5.52}, {\"app\": \"Instagram\", \"day_name\": \"2.Tuesday\", \"promedio\": 6.07}, {\"app\": \"Instagram\", \"day_name\": \"3.Wednesday\", \"promedio\": 6.81}, {\"app\": \"Instagram\", \"day_name\": \"4.Thursday\", \"promedio\": 6.15}, {\"app\": \"Instagram\", \"day_name\": \"5.Friday\", \"promedio\": 6.41}, {\"app\": \"Instagram\", \"day_name\": \"6.Saturday\", \"promedio\": 7.3}, {\"app\": \"Instagram\", \"day_name\": \"7.Sunday\", \"promedio\": 7.67}, {\"app\": \"LinkedIn \\u2013 App para Buscar Trabajo\", \"day_name\": \"1.Monday\", \"promedio\": 0.56}, {\"app\": \"LinkedIn \\u2013 App para Buscar Trabajo\", \"day_name\": \"2.Tuesday\", \"promedio\": 0.52}, {\"app\": \"LinkedIn \\u2013 App para Buscar Trabajo\", \"day_name\": \"3.Wednesday\", \"promedio\": 0.23}, {\"app\": \"LinkedIn \\u2013 App para Buscar Trabajo\", \"day_name\": \"4.Thursday\", \"promedio\": 0.46}, {\"app\": \"LinkedIn \\u2013 App para Buscar Trabajo\", \"day_name\": \"5.Friday\", \"promedio\": 0.44}, {\"app\": \"LinkedIn \\u2013 App para Buscar Trabajo\", \"day_name\": \"6.Saturday\", \"promedio\": 0.22}, {\"app\": \"LinkedIn \\u2013 App para Buscar Trabajo\", \"day_name\": \"7.Sunday\", \"promedio\": 0.19}, {\"app\": \"Mercado Libre: compra f\\u00e1cil y r\\u00e1pido\", \"day_name\": \"1.Monday\", \"promedio\": 2.7}, {\"app\": \"Mercado Libre: compra f\\u00e1cil y r\\u00e1pido\", \"day_name\": \"2.Tuesday\", \"promedio\": 2.59}, {\"app\": \"Mercado Libre: compra f\\u00e1cil y r\\u00e1pido\", \"day_name\": \"3.Wednesday\", \"promedio\": 1.62}, {\"app\": \"Mercado Libre: compra f\\u00e1cil y r\\u00e1pido\", \"day_name\": \"4.Thursday\", \"promedio\": 2.58}, {\"app\": \"Mercado Libre: compra f\\u00e1cil y r\\u00e1pido\", \"day_name\": \"5.Friday\", \"promedio\": 1.7}, {\"app\": \"Mercado Libre: compra f\\u00e1cil y r\\u00e1pido\", \"day_name\": \"6.Saturday\", \"promedio\": 3.44}, {\"app\": \"Mercado Libre: compra f\\u00e1cil y r\\u00e1pido\", \"day_name\": \"7.Sunday\", \"promedio\": 4.33}, {\"app\": \"Netflix\", \"day_name\": \"1.Monday\", \"promedio\": 3.19}, {\"app\": \"Netflix\", \"day_name\": \"2.Tuesday\", \"promedio\": 2.48}, {\"app\": \"Netflix\", \"day_name\": \"3.Wednesday\", \"promedio\": 2.5}, {\"app\": \"Netflix\", \"day_name\": \"4.Thursday\", \"promedio\": 2.0}, {\"app\": \"Netflix\", \"day_name\": \"5.Friday\", \"promedio\": 2.85}, {\"app\": \"Netflix\", \"day_name\": \"6.Saturday\", \"promedio\": 3.37}, {\"app\": \"Netflix\", \"day_name\": \"7.Sunday\", \"promedio\": 3.81}, {\"app\": \"PedidosYa - Delivery Online\", \"day_name\": \"1.Monday\", \"promedio\": 0.04}, {\"app\": \"PedidosYa - Delivery Online\", \"day_name\": \"2.Tuesday\", \"promedio\": 0.15}, {\"app\": \"PedidosYa - Delivery Online\", \"day_name\": \"3.Wednesday\", \"promedio\": 0.23}, {\"app\": \"PedidosYa - Delivery Online\", \"day_name\": \"4.Thursday\", \"promedio\": 0.38}, {\"app\": \"PedidosYa - Delivery Online\", \"day_name\": \"5.Friday\", \"promedio\": 0.67}, {\"app\": \"PedidosYa - Delivery Online\", \"day_name\": \"6.Saturday\", \"promedio\": 0.67}, {\"app\": \"PedidosYa - Delivery Online\", \"day_name\": \"7.Sunday\", \"promedio\": 0.19}, {\"app\": \"Rappi: Delivery de Comida, Mercado y Farmacia\", \"day_name\": \"1.Monday\", \"promedio\": 0.0}, {\"app\": \"Rappi: Delivery de Comida, Mercado y Farmacia\", \"day_name\": \"2.Tuesday\", \"promedio\": 0.04}, {\"app\": \"Rappi: Delivery de Comida, Mercado y Farmacia\", \"day_name\": \"3.Wednesday\", \"promedio\": 0.15}, {\"app\": \"Rappi: Delivery de Comida, Mercado y Farmacia\", \"day_name\": \"4.Thursday\", \"promedio\": 0.12}, {\"app\": \"Rappi: Delivery de Comida, Mercado y Farmacia\", \"day_name\": \"5.Friday\", \"promedio\": 0.19}, {\"app\": \"Rappi: Delivery de Comida, Mercado y Farmacia\", \"day_name\": \"6.Saturday\", \"promedio\": 0.3}, {\"app\": \"Rappi: Delivery de Comida, Mercado y Farmacia\", \"day_name\": \"7.Sunday\", \"promedio\": 0.15}, {\"app\": \"Spotify: Nueva m\\u00fasica y podcasts para vos\", \"day_name\": \"1.Monday\", \"promedio\": 0.26}, {\"app\": \"Spotify: Nueva m\\u00fasica y podcasts para vos\", \"day_name\": \"2.Tuesday\", \"promedio\": 0.33}, {\"app\": \"Spotify: Nueva m\\u00fasica y podcasts para vos\", \"day_name\": \"3.Wednesday\", \"promedio\": 0.46}, {\"app\": \"Spotify: Nueva m\\u00fasica y podcasts para vos\", \"day_name\": \"4.Thursday\", \"promedio\": 0.31}, {\"app\": \"Spotify: Nueva m\\u00fasica y podcasts para vos\", \"day_name\": \"5.Friday\", \"promedio\": 0.33}, {\"app\": \"Spotify: Nueva m\\u00fasica y podcasts para vos\", \"day_name\": \"6.Saturday\", \"promedio\": 0.44}, {\"app\": \"Spotify: Nueva m\\u00fasica y podcasts para vos\", \"day_name\": \"7.Sunday\", \"promedio\": 0.78}, {\"app\": \"Twitter\", \"day_name\": \"1.Monday\", \"promedio\": 2.81}, {\"app\": \"Twitter\", \"day_name\": \"2.Tuesday\", \"promedio\": 3.56}, {\"app\": \"Twitter\", \"day_name\": \"3.Wednesday\", \"promedio\": 4.88}, {\"app\": \"Twitter\", \"day_name\": \"4.Thursday\", \"promedio\": 3.27}, {\"app\": \"Twitter\", \"day_name\": \"5.Friday\", \"promedio\": 3.41}, {\"app\": \"Twitter\", \"day_name\": \"6.Saturday\", \"promedio\": 3.85}, {\"app\": \"Twitter\", \"day_name\": \"7.Sunday\", \"promedio\": 4.56}, {\"app\": \"WhatsApp Messenger\", \"day_name\": \"1.Monday\", \"promedio\": 7.37}, {\"app\": \"WhatsApp Messenger\", \"day_name\": \"2.Tuesday\", \"promedio\": 8.04}, {\"app\": \"WhatsApp Messenger\", \"day_name\": \"3.Wednesday\", \"promedio\": 8.35}, {\"app\": \"WhatsApp Messenger\", \"day_name\": \"4.Thursday\", \"promedio\": 9.08}, {\"app\": \"WhatsApp Messenger\", \"day_name\": \"5.Friday\", \"promedio\": 8.26}, {\"app\": \"WhatsApp Messenger\", \"day_name\": \"6.Saturday\", \"promedio\": 7.56}, {\"app\": \"WhatsApp Messenger\", \"day_name\": \"7.Sunday\", \"promedio\": 5.26}, {\"app\": \"YouTube\", \"day_name\": \"1.Monday\", \"promedio\": 1.67}, {\"app\": \"YouTube\", \"day_name\": \"2.Tuesday\", \"promedio\": 1.26}, {\"app\": \"YouTube\", \"day_name\": \"3.Wednesday\", \"promedio\": 1.31}, {\"app\": \"YouTube\", \"day_name\": \"4.Thursday\", \"promedio\": 1.12}, {\"app\": \"YouTube\", \"day_name\": \"5.Friday\", \"promedio\": 0.96}, {\"app\": \"YouTube\", \"day_name\": \"6.Saturday\", \"promedio\": 1.56}, {\"app\": \"YouTube\", \"day_name\": \"7.Sunday\", \"promedio\": 2.0}]}}, {\"mode\": \"vega-lite\"});\n",
              "</script>"
            ]
          },
          "metadata": {
            "tags": []
          },
          "execution_count": 108
        }
      ]
    }
  ]
}